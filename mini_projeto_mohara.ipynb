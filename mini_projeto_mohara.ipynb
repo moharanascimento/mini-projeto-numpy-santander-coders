{
 "cells": [
  {
   "cell_type": "code",
   "execution_count": 1,
   "metadata": {},
   "outputs": [
    {
     "name": "stdout",
     "output_type": "stream",
     "text": [
      "7.127\n",
      "12\n",
      "2\n"
     ]
    }
   ],
   "source": [
    "import numpy as np\n",
    "\n",
    "def lancar_dados():\n",
    "    dado1 = np.random.randint(1,7)\n",
    "    dado2 = np.random.randint(1,7)\n",
    "    soma = dado1 + dado2\n",
    "    return soma\n",
    "\n",
    "def armazenar_jogos(repeticoes:int):\n",
    "    num = 1\n",
    "    array_final = np.arange(0)\n",
    "\n",
    "    while num <=repeticoes:\n",
    "        array_final = np.append(array_final,[lancar_dados()], axis=0)\n",
    "        num += 1\n",
    "    \n",
    "    return array_final\n",
    "\n",
    "jogos = armazenar_jogos(1000)\n",
    "# print(jogos)\n",
    "\n",
    "print(jogos.mean())\n",
    "print(jogos.max())\n",
    "print(jogos.min())\n"
   ]
  }
 ],
 "metadata": {
  "kernelspec": {
   "display_name": "Python 3",
   "language": "python",
   "name": "python3"
  },
  "language_info": {
   "codemirror_mode": {
    "name": "ipython",
    "version": 3
   },
   "file_extension": ".py",
   "mimetype": "text/x-python",
   "name": "python",
   "nbconvert_exporter": "python",
   "pygments_lexer": "ipython3",
   "version": "3.11.3"
  },
  "orig_nbformat": 4
 },
 "nbformat": 4,
 "nbformat_minor": 2
}
